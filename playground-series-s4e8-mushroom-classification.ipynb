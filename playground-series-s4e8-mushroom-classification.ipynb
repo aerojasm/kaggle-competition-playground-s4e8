{
 "cells": [
  {
   "cell_type": "markdown",
   "id": "e253d884",
   "metadata": {
    "papermill": {
     "duration": 0.013854,
     "end_time": "2024-08-28T22:01:29.010759",
     "exception": false,
     "start_time": "2024-08-28T22:01:28.996905",
     "status": "completed"
    },
    "tags": []
   },
   "source": [
    "# **Environment Setting**"
   ]
  },
  {
   "cell_type": "code",
   "execution_count": 1,
   "id": "5a97c56a",
   "metadata": {
    "execution": {
     "iopub.execute_input": "2024-08-28T22:01:29.038784Z",
     "iopub.status.busy": "2024-08-28T22:01:29.038351Z",
     "iopub.status.idle": "2024-08-28T22:01:47.159639Z",
     "shell.execute_reply": "2024-08-28T22:01:47.157975Z"
    },
    "papermill": {
     "duration": 18.144512,
     "end_time": "2024-08-28T22:01:47.168947",
     "exception": false,
     "start_time": "2024-08-28T22:01:29.024435",
     "status": "completed"
    },
    "tags": []
   },
   "outputs": [
    {
     "name": "stdout",
     "output_type": "stream",
     "text": [
      "Collecting ucimlrepo\r\n",
      "  Downloading ucimlrepo-0.0.7-py3-none-any.whl.metadata (5.5 kB)\r\n",
      "Requirement already satisfied: pandas>=1.0.0 in /opt/conda/lib/python3.10/site-packages (from ucimlrepo) (2.2.2)\r\n",
      "Requirement already satisfied: certifi>=2020.12.5 in /opt/conda/lib/python3.10/site-packages (from ucimlrepo) (2024.7.4)\r\n",
      "Requirement already satisfied: numpy>=1.22.4 in /opt/conda/lib/python3.10/site-packages (from pandas>=1.0.0->ucimlrepo) (1.26.4)\r\n",
      "Requirement already satisfied: python-dateutil>=2.8.2 in /opt/conda/lib/python3.10/site-packages (from pandas>=1.0.0->ucimlrepo) (2.9.0.post0)\r\n",
      "Requirement already satisfied: pytz>=2020.1 in /opt/conda/lib/python3.10/site-packages (from pandas>=1.0.0->ucimlrepo) (2024.1)\r\n",
      "Requirement already satisfied: tzdata>=2022.7 in /opt/conda/lib/python3.10/site-packages (from pandas>=1.0.0->ucimlrepo) (2024.1)\r\n",
      "Requirement already satisfied: six>=1.5 in /opt/conda/lib/python3.10/site-packages (from python-dateutil>=2.8.2->pandas>=1.0.0->ucimlrepo) (1.16.0)\r\n",
      "Downloading ucimlrepo-0.0.7-py3-none-any.whl (8.0 kB)\r\n",
      "Installing collected packages: ucimlrepo\r\n",
      "Successfully installed ucimlrepo-0.0.7\r\n"
     ]
    }
   ],
   "source": [
    "# Install if necessary\n",
    "!pip install ucimlrepo"
   ]
  },
  {
   "cell_type": "code",
   "execution_count": 2,
   "id": "cf89b038",
   "metadata": {
    "execution": {
     "iopub.execute_input": "2024-08-28T22:01:47.199981Z",
     "iopub.status.busy": "2024-08-28T22:01:47.199415Z",
     "iopub.status.idle": "2024-08-28T22:01:50.601059Z",
     "shell.execute_reply": "2024-08-28T22:01:50.599716Z"
    },
    "papermill": {
     "duration": 3.420509,
     "end_time": "2024-08-28T22:01:50.603905",
     "exception": false,
     "start_time": "2024-08-28T22:01:47.183396",
     "status": "completed"
    },
    "tags": []
   },
   "outputs": [
    {
     "name": "stdout",
     "output_type": "stream",
     "text": [
      "/kaggle/input/playground-series-s4e8/sample_submission.csv\n",
      "/kaggle/input/playground-series-s4e8/train.csv\n",
      "/kaggle/input/playground-series-s4e8/test.csv\n"
     ]
    }
   ],
   "source": [
    "import pandas as pd\n",
    "import numpy as np\n",
    "import matplotlib.pyplot as plt\n",
    "from matplotlib.ticker import FuncFormatter\n",
    "import seaborn as sns\n",
    "from ucimlrepo import fetch_ucirepo\n",
    "from scipy.stats import chi2_contingency\n",
    "\n",
    "from sklearn.model_selection import train_test_split, cross_val_score, GridSearchCV, KFold\n",
    "from sklearn.impute import SimpleImputer\n",
    "from sklearn.preprocessing import StandardScaler, OneHotEncoder\n",
    "from sklearn.compose import ColumnTransformer\n",
    "from sklearn.pipeline import Pipeline\n",
    "\n",
    "from sklearn.linear_model import LogisticRegression\n",
    "from sklearn.ensemble import RandomForestClassifier\n",
    "from sklearn.neighbors import KNeighborsClassifier\n",
    "from xgboost import XGBClassifier\n",
    "from sklearn.metrics import matthews_corrcoef, make_scorer\n",
    "\n",
    "pd.set_option('display.max_columns', 500)\n",
    "\n",
    "import os\n",
    "for dirname, _, filenames in os.walk('/kaggle/input'):\n",
    "    for filename in filenames:\n",
    "        print(os.path.join(dirname, filename))"
   ]
  },
  {
   "cell_type": "code",
   "execution_count": 3,
   "id": "f7e0ea67",
   "metadata": {
    "execution": {
     "iopub.execute_input": "2024-08-28T22:01:50.634289Z",
     "iopub.status.busy": "2024-08-28T22:01:50.633207Z",
     "iopub.status.idle": "2024-08-28T22:01:50.640691Z",
     "shell.execute_reply": "2024-08-28T22:01:50.639387Z"
    },
    "papermill": {
     "duration": 0.026249,
     "end_time": "2024-08-28T22:01:50.644030",
     "exception": false,
     "start_time": "2024-08-28T22:01:50.617781",
     "status": "completed"
    },
    "tags": []
   },
   "outputs": [],
   "source": [
    "# Notebook Parameters\n",
    "import_sample_data = True # change this when necessary\n",
    "sample_data_size = 0.5\n",
    "random_state = 42\n",
    "nulls_limit = 0.80"
   ]
  },
  {
   "cell_type": "code",
   "execution_count": 4,
   "id": "5eb46dc0",
   "metadata": {
    "execution": {
     "iopub.execute_input": "2024-08-28T22:01:50.674759Z",
     "iopub.status.busy": "2024-08-28T22:01:50.674316Z",
     "iopub.status.idle": "2024-08-28T22:02:17.118050Z",
     "shell.execute_reply": "2024-08-28T22:02:17.116710Z"
    },
    "papermill": {
     "duration": 26.462932,
     "end_time": "2024-08-28T22:02:17.120832",
     "exception": false,
     "start_time": "2024-08-28T22:01:50.657900",
     "status": "completed"
    },
    "tags": []
   },
   "outputs": [
    {
     "name": "stdout",
     "output_type": "stream",
     "text": [
      "Original shape: (61069, 21)\n",
      "Train shape: (1558472, 21)\n",
      "Test shape: (2077964, 20)\n"
     ]
    }
   ],
   "source": [
    "# Import Data\n",
    "original = fetch_ucirepo(id=848).data.original\n",
    "train = pd.read_csv('/kaggle/input/playground-series-s4e8/train.csv', index_col='id')\n",
    "if import_sample_data:\n",
    "    train = train.sample(frac=sample_data_size, random_state=random_state)\n",
    "test = pd.read_csv('/kaggle/input/playground-series-s4e8/test.csv', index_col='id')\n",
    "\n",
    "print('Original shape:', original.shape)\n",
    "print('Train shape:', train.shape)\n",
    "print('Test shape:', test.shape)"
   ]
  },
  {
   "cell_type": "markdown",
   "id": "09e24810",
   "metadata": {
    "papermill": {
     "duration": 0.013653,
     "end_time": "2024-08-28T22:02:17.147994",
     "exception": false,
     "start_time": "2024-08-28T22:02:17.134341",
     "status": "completed"
    },
    "tags": []
   },
   "source": [
    "# **Feature Engineering**"
   ]
  },
  {
   "cell_type": "code",
   "execution_count": 5,
   "id": "40ca62d1",
   "metadata": {
    "execution": {
     "iopub.execute_input": "2024-08-28T22:02:17.176771Z",
     "iopub.status.busy": "2024-08-28T22:02:17.176347Z",
     "iopub.status.idle": "2024-08-28T22:02:17.596666Z",
     "shell.execute_reply": "2024-08-28T22:02:17.595196Z"
    },
    "papermill": {
     "duration": 0.438161,
     "end_time": "2024-08-28T22:02:17.599772",
     "exception": false,
     "start_time": "2024-08-28T22:02:17.161611",
     "status": "completed"
    },
    "tags": []
   },
   "outputs": [
    {
     "data": {
      "text/html": [
       "<div>\n",
       "<style scoped>\n",
       "    .dataframe tbody tr th:only-of-type {\n",
       "        vertical-align: middle;\n",
       "    }\n",
       "\n",
       "    .dataframe tbody tr th {\n",
       "        vertical-align: top;\n",
       "    }\n",
       "\n",
       "    .dataframe thead th {\n",
       "        text-align: right;\n",
       "    }\n",
       "</style>\n",
       "<table border=\"1\" class=\"dataframe\">\n",
       "  <thead>\n",
       "    <tr style=\"text-align: right;\">\n",
       "      <th></th>\n",
       "      <th>class</th>\n",
       "      <th>cap-diameter</th>\n",
       "      <th>cap-shape</th>\n",
       "      <th>cap-surface</th>\n",
       "      <th>cap-color</th>\n",
       "      <th>does-bruise-or-bleed</th>\n",
       "      <th>gill-attachment</th>\n",
       "      <th>gill-spacing</th>\n",
       "      <th>gill-color</th>\n",
       "      <th>stem-height</th>\n",
       "      <th>stem-width</th>\n",
       "      <th>stem-root</th>\n",
       "      <th>stem-surface</th>\n",
       "      <th>stem-color</th>\n",
       "      <th>veil-type</th>\n",
       "      <th>veil-color</th>\n",
       "      <th>has-ring</th>\n",
       "      <th>ring-type</th>\n",
       "      <th>spore-print-color</th>\n",
       "      <th>habitat</th>\n",
       "      <th>season</th>\n",
       "      <th>edible</th>\n",
       "    </tr>\n",
       "    <tr>\n",
       "      <th>id</th>\n",
       "      <th></th>\n",
       "      <th></th>\n",
       "      <th></th>\n",
       "      <th></th>\n",
       "      <th></th>\n",
       "      <th></th>\n",
       "      <th></th>\n",
       "      <th></th>\n",
       "      <th></th>\n",
       "      <th></th>\n",
       "      <th></th>\n",
       "      <th></th>\n",
       "      <th></th>\n",
       "      <th></th>\n",
       "      <th></th>\n",
       "      <th></th>\n",
       "      <th></th>\n",
       "      <th></th>\n",
       "      <th></th>\n",
       "      <th></th>\n",
       "      <th></th>\n",
       "      <th></th>\n",
       "    </tr>\n",
       "  </thead>\n",
       "  <tbody>\n",
       "    <tr>\n",
       "      <th>483440</th>\n",
       "      <td>e</td>\n",
       "      <td>10.33</td>\n",
       "      <td>x</td>\n",
       "      <td>s</td>\n",
       "      <td>n</td>\n",
       "      <td>f</td>\n",
       "      <td>e</td>\n",
       "      <td>c</td>\n",
       "      <td>w</td>\n",
       "      <td>9.01</td>\n",
       "      <td>10.75</td>\n",
       "      <td>NaN</td>\n",
       "      <td>i</td>\n",
       "      <td>w</td>\n",
       "      <td>NaN</td>\n",
       "      <td>NaN</td>\n",
       "      <td>f</td>\n",
       "      <td>f</td>\n",
       "      <td>p</td>\n",
       "      <td>d</td>\n",
       "      <td>u</td>\n",
       "      <td>1</td>\n",
       "    </tr>\n",
       "    <tr>\n",
       "      <th>257308</th>\n",
       "      <td>p</td>\n",
       "      <td>4.91</td>\n",
       "      <td>f</td>\n",
       "      <td>k</td>\n",
       "      <td>n</td>\n",
       "      <td>f</td>\n",
       "      <td>p</td>\n",
       "      <td>NaN</td>\n",
       "      <td>n</td>\n",
       "      <td>3.90</td>\n",
       "      <td>5.77</td>\n",
       "      <td>NaN</td>\n",
       "      <td>k</td>\n",
       "      <td>n</td>\n",
       "      <td>NaN</td>\n",
       "      <td>NaN</td>\n",
       "      <td>t</td>\n",
       "      <td>f</td>\n",
       "      <td>NaN</td>\n",
       "      <td>d</td>\n",
       "      <td>u</td>\n",
       "      <td>0</td>\n",
       "    </tr>\n",
       "    <tr>\n",
       "      <th>880269</th>\n",
       "      <td>p</td>\n",
       "      <td>3.60</td>\n",
       "      <td>x</td>\n",
       "      <td>i</td>\n",
       "      <td>e</td>\n",
       "      <td>f</td>\n",
       "      <td>NaN</td>\n",
       "      <td>NaN</td>\n",
       "      <td>e</td>\n",
       "      <td>4.69</td>\n",
       "      <td>6.28</td>\n",
       "      <td>NaN</td>\n",
       "      <td>NaN</td>\n",
       "      <td>e</td>\n",
       "      <td>NaN</td>\n",
       "      <td>NaN</td>\n",
       "      <td>f</td>\n",
       "      <td>f</td>\n",
       "      <td>n</td>\n",
       "      <td>d</td>\n",
       "      <td>a</td>\n",
       "      <td>0</td>\n",
       "    </tr>\n",
       "    <tr>\n",
       "      <th>85140</th>\n",
       "      <td>p</td>\n",
       "      <td>11.11</td>\n",
       "      <td>x</td>\n",
       "      <td>t</td>\n",
       "      <td>n</td>\n",
       "      <td>t</td>\n",
       "      <td>d</td>\n",
       "      <td>c</td>\n",
       "      <td>n</td>\n",
       "      <td>4.92</td>\n",
       "      <td>14.25</td>\n",
       "      <td>NaN</td>\n",
       "      <td>NaN</td>\n",
       "      <td>n</td>\n",
       "      <td>NaN</td>\n",
       "      <td>NaN</td>\n",
       "      <td>f</td>\n",
       "      <td>f</td>\n",
       "      <td>NaN</td>\n",
       "      <td>d</td>\n",
       "      <td>a</td>\n",
       "      <td>0</td>\n",
       "    </tr>\n",
       "    <tr>\n",
       "      <th>165744</th>\n",
       "      <td>p</td>\n",
       "      <td>3.57</td>\n",
       "      <td>x</td>\n",
       "      <td>NaN</td>\n",
       "      <td>n</td>\n",
       "      <td>f</td>\n",
       "      <td>a</td>\n",
       "      <td>NaN</td>\n",
       "      <td>k</td>\n",
       "      <td>9.96</td>\n",
       "      <td>2.73</td>\n",
       "      <td>NaN</td>\n",
       "      <td>NaN</td>\n",
       "      <td>n</td>\n",
       "      <td>NaN</td>\n",
       "      <td>w</td>\n",
       "      <td>f</td>\n",
       "      <td>f</td>\n",
       "      <td>k</td>\n",
       "      <td>g</td>\n",
       "      <td>a</td>\n",
       "      <td>0</td>\n",
       "    </tr>\n",
       "  </tbody>\n",
       "</table>\n",
       "</div>"
      ],
      "text/plain": [
       "       class  cap-diameter cap-shape cap-surface cap-color  \\\n",
       "id                                                           \n",
       "483440     e         10.33         x           s         n   \n",
       "257308     p          4.91         f           k         n   \n",
       "880269     p          3.60         x           i         e   \n",
       "85140      p         11.11         x           t         n   \n",
       "165744     p          3.57         x         NaN         n   \n",
       "\n",
       "       does-bruise-or-bleed gill-attachment gill-spacing gill-color  \\\n",
       "id                                                                    \n",
       "483440                    f               e            c          w   \n",
       "257308                    f               p          NaN          n   \n",
       "880269                    f             NaN          NaN          e   \n",
       "85140                     t               d            c          n   \n",
       "165744                    f               a          NaN          k   \n",
       "\n",
       "        stem-height  stem-width stem-root stem-surface stem-color veil-type  \\\n",
       "id                                                                            \n",
       "483440         9.01       10.75       NaN            i          w       NaN   \n",
       "257308         3.90        5.77       NaN            k          n       NaN   \n",
       "880269         4.69        6.28       NaN          NaN          e       NaN   \n",
       "85140          4.92       14.25       NaN          NaN          n       NaN   \n",
       "165744         9.96        2.73       NaN          NaN          n       NaN   \n",
       "\n",
       "       veil-color has-ring ring-type spore-print-color habitat season  edible  \n",
       "id                                                                             \n",
       "483440        NaN        f         f                 p       d      u       1  \n",
       "257308        NaN        t         f               NaN       d      u       0  \n",
       "880269        NaN        f         f                 n       d      a       0  \n",
       "85140         NaN        f         f               NaN       d      a       0  \n",
       "165744          w        f         f                 k       g      a       0  "
      ]
     },
     "execution_count": 5,
     "metadata": {},
     "output_type": "execute_result"
    }
   ],
   "source": [
    "# Create target variable\n",
    "train['edible'] = np.where(train['class'] == 'e', 1, 0)\n",
    "train.sample(5, random_state=random_state)"
   ]
  },
  {
   "cell_type": "markdown",
   "id": "d06ffddc",
   "metadata": {
    "papermill": {
     "duration": 0.015393,
     "end_time": "2024-08-28T22:02:17.630699",
     "exception": false,
     "start_time": "2024-08-28T22:02:17.615306",
     "status": "completed"
    },
    "tags": []
   },
   "source": [
    "As the train and test data come from an original data published on UC Irvine Machine Learning Repository, first we will limit only those values of the categorical features that are also present on the original data.  \n",
    "\n",
    "For example, consider cap-shape: "
   ]
  },
  {
   "cell_type": "code",
   "execution_count": 6,
   "id": "9c7d4944",
   "metadata": {
    "execution": {
     "iopub.execute_input": "2024-08-28T22:02:17.661694Z",
     "iopub.status.busy": "2024-08-28T22:02:17.661261Z",
     "iopub.status.idle": "2024-08-28T22:02:17.730456Z",
     "shell.execute_reply": "2024-08-28T22:02:17.729143Z"
    },
    "papermill": {
     "duration": 0.087758,
     "end_time": "2024-08-28T22:02:17.733599",
     "exception": false,
     "start_time": "2024-08-28T22:02:17.645841",
     "status": "completed"
    },
    "tags": []
   },
   "outputs": [
    {
     "data": {
      "text/plain": [
       "cap-shape\n",
       "x            718515\n",
       "f            337840\n",
       "s            182310\n",
       "b            159243\n",
       "o             54201\n",
       "p             53710\n",
       "c             52390\n",
       "d                32\n",
       "e                25\n",
       "n                22\n",
       "NaN              22\n",
       "w                20\n",
       "t                17\n",
       "g                15\n",
       "a                13\n",
       "u                13\n",
       "y                13\n",
       "r                11\n",
       "z                 9\n",
       "k                 8\n",
       "l                 7\n",
       "i                 6\n",
       "h                 5\n",
       "20.25             1\n",
       "3.37              1\n",
       "3.52              1\n",
       "7.43              1\n",
       "4.97              1\n",
       "6 x               1\n",
       "4.33              1\n",
       "2.82              1\n",
       "9.13              1\n",
       "54.78             1\n",
       "21.56             1\n",
       "49.21             1\n",
       "is p              1\n",
       "is s              1\n",
       "24.16             1\n",
       "7 x               1\n",
       "8.3               1\n",
       "ring-type         1\n",
       "b f               1\n",
       "19.06             1\n",
       "5.15              1\n",
       "6.44              1\n",
       "7.21              1\n",
       "4.22              1\n",
       "3.91              1\n",
       "Name: count, dtype: int64"
      ]
     },
     "execution_count": 6,
     "metadata": {},
     "output_type": "execute_result"
    }
   ],
   "source": [
    "# Train data\n",
    "train['cap-shape'].value_counts(dropna=False)"
   ]
  },
  {
   "cell_type": "code",
   "execution_count": 7,
   "id": "f5d0fc61",
   "metadata": {
    "execution": {
     "iopub.execute_input": "2024-08-28T22:02:17.765307Z",
     "iopub.status.busy": "2024-08-28T22:02:17.764825Z",
     "iopub.status.idle": "2024-08-28T22:02:17.778005Z",
     "shell.execute_reply": "2024-08-28T22:02:17.776618Z"
    },
    "papermill": {
     "duration": 0.031955,
     "end_time": "2024-08-28T22:02:17.780706",
     "exception": false,
     "start_time": "2024-08-28T22:02:17.748751",
     "status": "completed"
    },
    "tags": []
   },
   "outputs": [
    {
     "data": {
      "text/plain": [
       "cap-shape\n",
       "x    26934\n",
       "f    13404\n",
       "s     7164\n",
       "b     5694\n",
       "o     3460\n",
       "p     2598\n",
       "c     1815\n",
       "Name: count, dtype: int64"
      ]
     },
     "execution_count": 7,
     "metadata": {},
     "output_type": "execute_result"
    }
   ],
   "source": [
    "# Original data\n",
    "original['cap-shape'].value_counts(dropna=False)"
   ]
  },
  {
   "cell_type": "markdown",
   "id": "404e16ae",
   "metadata": {
    "papermill": {
     "duration": 0.014373,
     "end_time": "2024-08-28T22:02:17.809786",
     "exception": false,
     "start_time": "2024-08-28T22:02:17.795413",
     "status": "completed"
    },
    "tags": []
   },
   "source": [
    "We see that on the original data, cap-shape is supposed to have only a few letters as categories. However, on the train data there are some values that should not be there. Because of this we will drop all those values that do not match with the original dataset, in order to cast them correctly as categories."
   ]
  },
  {
   "cell_type": "code",
   "execution_count": 8,
   "id": "700d8d6a",
   "metadata": {
    "execution": {
     "iopub.execute_input": "2024-08-28T22:02:17.840750Z",
     "iopub.status.busy": "2024-08-28T22:02:17.840278Z",
     "iopub.status.idle": "2024-08-28T22:02:29.737854Z",
     "shell.execute_reply": "2024-08-28T22:02:29.736655Z"
    },
    "papermill": {
     "duration": 11.916297,
     "end_time": "2024-08-28T22:02:29.740810",
     "exception": false,
     "start_time": "2024-08-28T22:02:17.824513",
     "status": "completed"
    },
    "tags": []
   },
   "outputs": [],
   "source": [
    "# Isolate categorical columns\n",
    "train_numerical_features = train.select_dtypes(include=[float, int]).columns\n",
    "train_cat_features = train.columns.difference(train_numerical_features)\n",
    "\n",
    "# Cast categorical columns to category type\n",
    "for c in train_cat_features:\n",
    "    possible_values = set(original[c].unique())\n",
    "    train.loc[~train[c].isin(possible_values), c] = np.nan\n",
    "    train[c] = train[c].astype('category')\n",
    "    if c != 'class':\n",
    "        test.loc[~test[c].isin(possible_values), c] = np.nan\n",
    "        test[c] = test[c].astype('category')"
   ]
  },
  {
   "cell_type": "markdown",
   "id": "2138aad8",
   "metadata": {
    "papermill": {
     "duration": 0.013864,
     "end_time": "2024-08-28T22:02:29.768835",
     "exception": false,
     "start_time": "2024-08-28T22:02:29.754971",
     "status": "completed"
    },
    "tags": []
   },
   "source": [
    "Now we have only allowed values, an the rest are missing. Before moving one, we will evaluate the percentage of missing values, to determine if they need to be dropped later."
   ]
  },
  {
   "cell_type": "code",
   "execution_count": 9,
   "id": "400c7c52",
   "metadata": {
    "execution": {
     "iopub.execute_input": "2024-08-28T22:02:29.799628Z",
     "iopub.status.busy": "2024-08-28T22:02:29.799152Z",
     "iopub.status.idle": "2024-08-28T22:02:29.806642Z",
     "shell.execute_reply": "2024-08-28T22:02:29.805338Z"
    },
    "papermill": {
     "duration": 0.026039,
     "end_time": "2024-08-28T22:02:29.809461",
     "exception": false,
     "start_time": "2024-08-28T22:02:29.783422",
     "status": "completed"
    },
    "tags": []
   },
   "outputs": [],
   "source": [
    "def percentage_missings(df):\n",
    "    df_nulls = df.isnull().sum().reset_index(drop=False)\n",
    "    df_nulls = df_nulls.rename(columns={'index': 'column', 0: 'n_missings'})\n",
    "    df_nulls['p_nulls'] = (df_nulls['n_missings'] / df.shape[0]).round(2)\n",
    "    df_nulls = df_nulls.sort_values('p_nulls', ascending=False)\n",
    "    return df_nulls"
   ]
  },
  {
   "cell_type": "code",
   "execution_count": 10,
   "id": "88f87980",
   "metadata": {
    "execution": {
     "iopub.execute_input": "2024-08-28T22:02:29.840441Z",
     "iopub.status.busy": "2024-08-28T22:02:29.839963Z",
     "iopub.status.idle": "2024-08-28T22:02:29.892074Z",
     "shell.execute_reply": "2024-08-28T22:02:29.890553Z"
    },
    "papermill": {
     "duration": 0.071145,
     "end_time": "2024-08-28T22:02:29.895440",
     "exception": false,
     "start_time": "2024-08-28T22:02:29.824295",
     "status": "completed"
    },
    "tags": []
   },
   "outputs": [
    {
     "data": {
      "text/html": [
       "<div>\n",
       "<style scoped>\n",
       "    .dataframe tbody tr th:only-of-type {\n",
       "        vertical-align: middle;\n",
       "    }\n",
       "\n",
       "    .dataframe tbody tr th {\n",
       "        vertical-align: top;\n",
       "    }\n",
       "\n",
       "    .dataframe thead th {\n",
       "        text-align: right;\n",
       "    }\n",
       "</style>\n",
       "<table border=\"1\" class=\"dataframe\">\n",
       "  <thead>\n",
       "    <tr style=\"text-align: right;\">\n",
       "      <th></th>\n",
       "      <th>column</th>\n",
       "      <th>n_missings</th>\n",
       "      <th>p_nulls</th>\n",
       "    </tr>\n",
       "  </thead>\n",
       "  <tbody>\n",
       "    <tr>\n",
       "      <th>14</th>\n",
       "      <td>veil-type</td>\n",
       "      <td>1478640</td>\n",
       "      <td>0.95</td>\n",
       "    </tr>\n",
       "    <tr>\n",
       "      <th>18</th>\n",
       "      <td>spore-print-color</td>\n",
       "      <td>1425200</td>\n",
       "      <td>0.91</td>\n",
       "    </tr>\n",
       "    <tr>\n",
       "      <th>11</th>\n",
       "      <td>stem-root</td>\n",
       "      <td>1378377</td>\n",
       "      <td>0.88</td>\n",
       "    </tr>\n",
       "    <tr>\n",
       "      <th>15</th>\n",
       "      <td>veil-color</td>\n",
       "      <td>1370615</td>\n",
       "      <td>0.88</td>\n",
       "    </tr>\n",
       "    <tr>\n",
       "      <th>12</th>\n",
       "      <td>stem-surface</td>\n",
       "      <td>990618</td>\n",
       "      <td>0.64</td>\n",
       "    </tr>\n",
       "  </tbody>\n",
       "</table>\n",
       "</div>"
      ],
      "text/plain": [
       "               column  n_missings  p_nulls\n",
       "14          veil-type     1478640     0.95\n",
       "18  spore-print-color     1425200     0.91\n",
       "11          stem-root     1378377     0.88\n",
       "15         veil-color     1370615     0.88\n",
       "12       stem-surface      990618     0.64"
      ]
     },
     "execution_count": 10,
     "metadata": {},
     "output_type": "execute_result"
    }
   ],
   "source": [
    "train_nulls = percentage_missings(train)\n",
    "train_nulls.head()"
   ]
  },
  {
   "cell_type": "code",
   "execution_count": 11,
   "id": "538ced97",
   "metadata": {
    "execution": {
     "iopub.execute_input": "2024-08-28T22:02:29.928905Z",
     "iopub.status.busy": "2024-08-28T22:02:29.928473Z",
     "iopub.status.idle": "2024-08-28T22:02:29.986936Z",
     "shell.execute_reply": "2024-08-28T22:02:29.985642Z"
    },
    "papermill": {
     "duration": 0.078935,
     "end_time": "2024-08-28T22:02:29.990206",
     "exception": false,
     "start_time": "2024-08-28T22:02:29.911271",
     "status": "completed"
    },
    "tags": []
   },
   "outputs": [
    {
     "data": {
      "text/html": [
       "<div>\n",
       "<style scoped>\n",
       "    .dataframe tbody tr th:only-of-type {\n",
       "        vertical-align: middle;\n",
       "    }\n",
       "\n",
       "    .dataframe tbody tr th {\n",
       "        vertical-align: top;\n",
       "    }\n",
       "\n",
       "    .dataframe thead th {\n",
       "        text-align: right;\n",
       "    }\n",
       "</style>\n",
       "<table border=\"1\" class=\"dataframe\">\n",
       "  <thead>\n",
       "    <tr style=\"text-align: right;\">\n",
       "      <th></th>\n",
       "      <th>column</th>\n",
       "      <th>n_missings</th>\n",
       "      <th>p_nulls</th>\n",
       "    </tr>\n",
       "  </thead>\n",
       "  <tbody>\n",
       "    <tr>\n",
       "      <th>13</th>\n",
       "      <td>veil-type</td>\n",
       "      <td>1971591</td>\n",
       "      <td>0.95</td>\n",
       "    </tr>\n",
       "    <tr>\n",
       "      <th>17</th>\n",
       "      <td>spore-print-color</td>\n",
       "      <td>1899728</td>\n",
       "      <td>0.91</td>\n",
       "    </tr>\n",
       "    <tr>\n",
       "      <th>10</th>\n",
       "      <td>stem-root</td>\n",
       "      <td>1838125</td>\n",
       "      <td>0.88</td>\n",
       "    </tr>\n",
       "    <tr>\n",
       "      <th>14</th>\n",
       "      <td>veil-color</td>\n",
       "      <td>1826228</td>\n",
       "      <td>0.88</td>\n",
       "    </tr>\n",
       "    <tr>\n",
       "      <th>11</th>\n",
       "      <td>stem-surface</td>\n",
       "      <td>1321738</td>\n",
       "      <td>0.64</td>\n",
       "    </tr>\n",
       "  </tbody>\n",
       "</table>\n",
       "</div>"
      ],
      "text/plain": [
       "               column  n_missings  p_nulls\n",
       "13          veil-type     1971591     0.95\n",
       "17  spore-print-color     1899728     0.91\n",
       "10          stem-root     1838125     0.88\n",
       "14         veil-color     1826228     0.88\n",
       "11       stem-surface     1321738     0.64"
      ]
     },
     "execution_count": 11,
     "metadata": {},
     "output_type": "execute_result"
    }
   ],
   "source": [
    "test_nulls = percentage_missings(test)\n",
    "test_nulls.head()"
   ]
  },
  {
   "cell_type": "markdown",
   "id": "5ce66119",
   "metadata": {
    "papermill": {
     "duration": 0.015741,
     "end_time": "2024-08-28T22:02:30.022634",
     "exception": false,
     "start_time": "2024-08-28T22:02:30.006893",
     "status": "completed"
    },
    "tags": []
   },
   "source": [
    "By following this method, we end up with 4 features that have a high percentage of missing values, with rates exceeding 85%. This is the threshold we will follow to determine the columns to drop."
   ]
  },
  {
   "cell_type": "code",
   "execution_count": 12,
   "id": "07d711aa",
   "metadata": {
    "execution": {
     "iopub.execute_input": "2024-08-28T22:02:30.056325Z",
     "iopub.status.busy": "2024-08-28T22:02:30.055856Z",
     "iopub.status.idle": "2024-08-28T22:02:30.100041Z",
     "shell.execute_reply": "2024-08-28T22:02:30.098850Z"
    },
    "papermill": {
     "duration": 0.064659,
     "end_time": "2024-08-28T22:02:30.103026",
     "exception": false,
     "start_time": "2024-08-28T22:02:30.038367",
     "status": "completed"
    },
    "tags": []
   },
   "outputs": [],
   "source": [
    "train = train.drop(columns=train_nulls.loc[train_nulls['p_nulls'] > nulls_limit, 'column'])\n",
    "test = test.drop(columns=test_nulls.loc[test_nulls['p_nulls'] > nulls_limit, 'column'])"
   ]
  },
  {
   "cell_type": "markdown",
   "id": "b9de17b9",
   "metadata": {
    "papermill": {
     "duration": 0.014997,
     "end_time": "2024-08-28T22:02:30.133062",
     "exception": false,
     "start_time": "2024-08-28T22:02:30.118065",
     "status": "completed"
    },
    "tags": []
   },
   "source": [
    "The other columns will follow an imputation. In this case, we will use the mode."
   ]
  },
  {
   "cell_type": "code",
   "execution_count": 13,
   "id": "2ed8d37d",
   "metadata": {
    "execution": {
     "iopub.execute_input": "2024-08-28T22:02:30.166550Z",
     "iopub.status.busy": "2024-08-28T22:02:30.166041Z",
     "iopub.status.idle": "2024-08-28T22:02:48.418922Z",
     "shell.execute_reply": "2024-08-28T22:02:48.417600Z"
    },
    "papermill": {
     "duration": 18.27402,
     "end_time": "2024-08-28T22:02:48.422019",
     "exception": false,
     "start_time": "2024-08-28T22:02:30.147999",
     "status": "completed"
    },
    "tags": []
   },
   "outputs": [],
   "source": [
    "def impute_missings(df, num_method='mean', cat_method='most_frequent'):\n",
    "    numerical_features = df.select_dtypes(include=[float, int]).columns\n",
    "    categorical_features = df.select_dtypes(include=['category', 'object']).columns\n",
    "    \n",
    "    num_imputer = SimpleImputer(strategy=num_method)\n",
    "    df_num_imputed = pd.DataFrame(num_imputer.fit_transform(df[numerical_features]), columns=numerical_features)\n",
    "\n",
    "    cat_imputer = SimpleImputer(strategy=cat_method)\n",
    "    df_cat_imputed = pd.DataFrame(cat_imputer.fit_transform(df[categorical_features]), columns=categorical_features)\n",
    "\n",
    "    df_imputed = pd.concat([df_num_imputed, df_cat_imputed], axis=1)\n",
    "\n",
    "    for c in df_imputed.columns:\n",
    "        if c in numerical_features:\n",
    "            df_imputed[c] = df_imputed[c].astype(int)\n",
    "        else:\n",
    "            df_imputed[c] = df_imputed[c].astype('category')\n",
    "\n",
    "    return df_imputed\n",
    "\n",
    "train_imputed = impute_missings(train)\n",
    "test_imputed = impute_missings(test)"
   ]
  },
  {
   "cell_type": "code",
   "execution_count": 14,
   "id": "02890550",
   "metadata": {
    "execution": {
     "iopub.execute_input": "2024-08-28T22:02:48.454828Z",
     "iopub.status.busy": "2024-08-28T22:02:48.454382Z",
     "iopub.status.idle": "2024-08-28T22:02:48.464992Z",
     "shell.execute_reply": "2024-08-28T22:02:48.463782Z"
    },
    "papermill": {
     "duration": 0.030231,
     "end_time": "2024-08-28T22:02:48.467612",
     "exception": false,
     "start_time": "2024-08-28T22:02:48.437381",
     "status": "completed"
    },
    "tags": []
   },
   "outputs": [
    {
     "data": {
      "text/plain": [
       "cap-diameter               int64\n",
       "stem-height                int64\n",
       "stem-width                 int64\n",
       "edible                     int64\n",
       "class                   category\n",
       "cap-shape               category\n",
       "cap-surface             category\n",
       "cap-color               category\n",
       "does-bruise-or-bleed    category\n",
       "gill-attachment         category\n",
       "gill-spacing            category\n",
       "gill-color              category\n",
       "stem-surface            category\n",
       "stem-color              category\n",
       "has-ring                category\n",
       "ring-type               category\n",
       "habitat                 category\n",
       "season                  category\n",
       "dtype: object"
      ]
     },
     "execution_count": 14,
     "metadata": {},
     "output_type": "execute_result"
    }
   ],
   "source": [
    "train_imputed.dtypes"
   ]
  },
  {
   "cell_type": "markdown",
   "id": "9de0fa6d",
   "metadata": {
    "papermill": {
     "duration": 0.014451,
     "end_time": "2024-08-28T22:02:48.496885",
     "exception": false,
     "start_time": "2024-08-28T22:02:48.482434",
     "status": "completed"
    },
    "tags": []
   },
   "source": [
    "# **Features Distribution**"
   ]
  },
  {
   "cell_type": "code",
   "execution_count": 15,
   "id": "a75f2c05",
   "metadata": {
    "execution": {
     "iopub.execute_input": "2024-08-28T22:02:48.528918Z",
     "iopub.status.busy": "2024-08-28T22:02:48.527982Z",
     "iopub.status.idle": "2024-08-28T22:03:05.436195Z",
     "shell.execute_reply": "2024-08-28T22:03:05.434887Z"
    },
    "papermill": {
     "duration": 16.928479,
     "end_time": "2024-08-28T22:03:05.440125",
     "exception": false,
     "start_time": "2024-08-28T22:02:48.511646",
     "status": "completed"
    },
    "tags": []
   },
   "outputs": [
    {
     "name": "stderr",
     "output_type": "stream",
     "text": [
      "/opt/conda/lib/python3.10/site-packages/seaborn/_oldcore.py:1119: FutureWarning: use_inf_as_na option is deprecated and will be removed in a future version. Convert inf values to NaN before operating instead.\n",
      "  with pd.option_context('mode.use_inf_as_na', True):\n",
      "/opt/conda/lib/python3.10/site-packages/seaborn/_oldcore.py:1119: FutureWarning: use_inf_as_na option is deprecated and will be removed in a future version. Convert inf values to NaN before operating instead.\n",
      "  with pd.option_context('mode.use_inf_as_na', True):\n",
      "/opt/conda/lib/python3.10/site-packages/seaborn/_oldcore.py:1119: FutureWarning: use_inf_as_na option is deprecated and will be removed in a future version. Convert inf values to NaN before operating instead.\n",
      "  with pd.option_context('mode.use_inf_as_na', True):\n",
      "/opt/conda/lib/python3.10/site-packages/seaborn/_oldcore.py:1119: FutureWarning: use_inf_as_na option is deprecated and will be removed in a future version. Convert inf values to NaN before operating instead.\n",
      "  with pd.option_context('mode.use_inf_as_na', True):\n"
     ]
    },
    {
     "data": {
      "image/png": "[encoded data removed]",
      "text/plain": [
       "<Figure size 2000x1600 with 20 Axes>"
      ]
     },
     "metadata": {},
     "output_type": "display_data"
    }
   ],
   "source": [
    "def thousands_formatter(x, pos):\n",
    "    if x >= 1e6:\n",
    "        return f'{x*1e-6:.1f}M'\n",
    "    elif x >= 1e3:\n",
    "        return f'{x*1e-3:.0f}K'\n",
    "    else:\n",
    "        return f'{x:.0f}'\n",
    "\n",
    "def plot_feature_distribution(df: pd.DataFrame):\n",
    "    fig, axs = plt.subplots(4, 5, figsize=(20, 16))\n",
    "    plt.tight_layout()\n",
    "    df = df.drop(columns='class')\n",
    "\n",
    "    for c, ax in zip(df.columns, axs.flatten()):\n",
    "        if pd.api.types.is_numeric_dtype(df[c]):\n",
    "            sns.histplot(df[c], ax=ax, color='lightgreen')\n",
    "        else:\n",
    "            df[c].value_counts(sort=False).plot(kind='bar', ax=ax, color='skyblue')\n",
    "        ax.set_xlabel('')\n",
    "        ax.set_ylabel('')\n",
    "        ax.set_title(f\"{c}\", fontsize=12)\n",
    "        ax.yaxis.set_major_formatter(FuncFormatter(thousands_formatter))\n",
    "    \n",
    "    fig.subplots_adjust(wspace=0.2, hspace=0.2)\n",
    "    plt.show()\n",
    "\n",
    "plot_feature_distribution(train)"
   ]
  },
  {
   "cell_type": "markdown",
   "id": "16024680",
   "metadata": {
    "papermill": {
     "duration": 0.017394,
     "end_time": "2024-08-28T22:03:05.475609",
     "exception": false,
     "start_time": "2024-08-28T22:03:05.458215",
     "status": "completed"
    },
    "tags": []
   },
   "source": [
    "These distributions are interesting to know. The ones that stand out are the histograms of the features with float values. In fact the three of them are right-skewed, so most of the values are on the lower side of the distribution."
   ]
  },
  {
   "cell_type": "markdown",
   "id": "4c94bc20",
   "metadata": {
    "papermill": {
     "duration": 0.017293,
     "end_time": "2024-08-28T22:03:05.510782",
     "exception": false,
     "start_time": "2024-08-28T22:03:05.493489",
     "status": "completed"
    },
    "tags": []
   },
   "source": [
    "# **Features Relationships**"
   ]
  },
  {
   "cell_type": "markdown",
   "id": "8c5842f2",
   "metadata": {
    "papermill": {
     "duration": 0.017483,
     "end_time": "2024-08-28T22:03:05.546349",
     "exception": false,
     "start_time": "2024-08-28T22:03:05.528866",
     "status": "completed"
    },
    "tags": []
   },
   "source": [
    "Additionaly, we will evaluate the relationships between the features and the target variable. For this, we will use chi-square tests for the categorical variables and pearson correlation for numerical variables."
   ]
  },
  {
   "cell_type": "code",
   "execution_count": 16,
   "id": "d8bcf97d",
   "metadata": {
    "execution": {
     "iopub.execute_input": "2024-08-28T22:03:05.585239Z",
     "iopub.status.busy": "2024-08-28T22:03:05.584783Z",
     "iopub.status.idle": "2024-08-28T22:03:10.351953Z",
     "shell.execute_reply": "2024-08-28T22:03:10.350864Z"
    },
    "papermill": {
     "duration": 4.789781,
     "end_time": "2024-08-28T22:03:10.354786",
     "exception": false,
     "start_time": "2024-08-28T22:03:05.565005",
     "status": "completed"
    },
    "tags": []
   },
   "outputs": [
    {
     "data": {
      "text/html": [
       "<div>\n",
       "<style scoped>\n",
       "    .dataframe tbody tr th:only-of-type {\n",
       "        vertical-align: middle;\n",
       "    }\n",
       "\n",
       "    .dataframe tbody tr th {\n",
       "        vertical-align: top;\n",
       "    }\n",
       "\n",
       "    .dataframe thead th {\n",
       "        text-align: right;\n",
       "    }\n",
       "</style>\n",
       "<table border=\"1\" class=\"dataframe\">\n",
       "  <thead>\n",
       "    <tr style=\"text-align: right;\">\n",
       "      <th></th>\n",
       "      <th>column</th>\n",
       "      <th>p_value</th>\n",
       "    </tr>\n",
       "  </thead>\n",
       "  <tbody>\n",
       "    <tr>\n",
       "      <th>0</th>\n",
       "      <td>class</td>\n",
       "      <td>0.0</td>\n",
       "    </tr>\n",
       "    <tr>\n",
       "      <th>1</th>\n",
       "      <td>cap-shape</td>\n",
       "      <td>0.0</td>\n",
       "    </tr>\n",
       "    <tr>\n",
       "      <th>2</th>\n",
       "      <td>cap-surface</td>\n",
       "      <td>0.0</td>\n",
       "    </tr>\n",
       "    <tr>\n",
       "      <th>3</th>\n",
       "      <td>cap-color</td>\n",
       "      <td>0.0</td>\n",
       "    </tr>\n",
       "    <tr>\n",
       "      <th>4</th>\n",
       "      <td>does-bruise-or-bleed</td>\n",
       "      <td>0.0</td>\n",
       "    </tr>\n",
       "    <tr>\n",
       "      <th>5</th>\n",
       "      <td>gill-attachment</td>\n",
       "      <td>0.0</td>\n",
       "    </tr>\n",
       "    <tr>\n",
       "      <th>6</th>\n",
       "      <td>gill-spacing</td>\n",
       "      <td>0.0</td>\n",
       "    </tr>\n",
       "    <tr>\n",
       "      <th>7</th>\n",
       "      <td>gill-color</td>\n",
       "      <td>0.0</td>\n",
       "    </tr>\n",
       "    <tr>\n",
       "      <th>8</th>\n",
       "      <td>stem-surface</td>\n",
       "      <td>0.0</td>\n",
       "    </tr>\n",
       "    <tr>\n",
       "      <th>9</th>\n",
       "      <td>stem-color</td>\n",
       "      <td>0.0</td>\n",
       "    </tr>\n",
       "    <tr>\n",
       "      <th>10</th>\n",
       "      <td>has-ring</td>\n",
       "      <td>0.0</td>\n",
       "    </tr>\n",
       "    <tr>\n",
       "      <th>11</th>\n",
       "      <td>ring-type</td>\n",
       "      <td>0.0</td>\n",
       "    </tr>\n",
       "    <tr>\n",
       "      <th>12</th>\n",
       "      <td>habitat</td>\n",
       "      <td>0.0</td>\n",
       "    </tr>\n",
       "    <tr>\n",
       "      <th>13</th>\n",
       "      <td>season</td>\n",
       "      <td>0.0</td>\n",
       "    </tr>\n",
       "  </tbody>\n",
       "</table>\n",
       "</div>"
      ],
      "text/plain": [
       "                  column  p_value\n",
       "0                  class      0.0\n",
       "1              cap-shape      0.0\n",
       "2            cap-surface      0.0\n",
       "3              cap-color      0.0\n",
       "4   does-bruise-or-bleed      0.0\n",
       "5        gill-attachment      0.0\n",
       "6           gill-spacing      0.0\n",
       "7             gill-color      0.0\n",
       "8           stem-surface      0.0\n",
       "9             stem-color      0.0\n",
       "10              has-ring      0.0\n",
       "11             ring-type      0.0\n",
       "12               habitat      0.0\n",
       "13                season      0.0"
      ]
     },
     "execution_count": 16,
     "metadata": {},
     "output_type": "execute_result"
    }
   ],
   "source": [
    "# Chi-squared results for categorical features\n",
    "chi2_results = {}\n",
    "cat_features = train_imputed.select_dtypes(include='category').columns\n",
    "for cat in cat_features:\n",
    "    contingency_table = pd.crosstab(train_imputed['edible'], train_imputed[cat], margins=True)\n",
    "    p = chi2_contingency(contingency_table).pvalue\n",
    "    chi2_results[cat] = p\n",
    "\n",
    "chi2_results_table = pd.Series(chi2_results).reset_index(drop=False)\n",
    "chi2_results_table = chi2_results_table.rename(columns={'index': 'column', 0: 'p_value'})\n",
    "chi2_results_table = chi2_results_table.sort_values(by='p_value', ascending=False).reset_index(drop=True)\n",
    "chi2_results_table['p_value'] = chi2_results_table['p_value'].round(4)\n",
    "chi2_results_table"
   ]
  },
  {
   "cell_type": "code",
   "execution_count": 17,
   "id": "53fbf59c",
   "metadata": {
    "execution": {
     "iopub.execute_input": "2024-08-28T22:03:10.394374Z",
     "iopub.status.busy": "2024-08-28T22:03:10.393840Z",
     "iopub.status.idle": "2024-08-28T22:03:10.520647Z",
     "shell.execute_reply": "2024-08-28T22:03:10.519407Z"
    },
    "papermill": {
     "duration": 0.150294,
     "end_time": "2024-08-28T22:03:10.523790",
     "exception": false,
     "start_time": "2024-08-28T22:03:10.373496",
     "status": "completed"
    },
    "tags": []
   },
   "outputs": [
    {
     "data": {
      "text/html": [
       "<div>\n",
       "<style scoped>\n",
       "    .dataframe tbody tr th:only-of-type {\n",
       "        vertical-align: middle;\n",
       "    }\n",
       "\n",
       "    .dataframe tbody tr th {\n",
       "        vertical-align: top;\n",
       "    }\n",
       "\n",
       "    .dataframe thead th {\n",
       "        text-align: right;\n",
       "    }\n",
       "</style>\n",
       "<table border=\"1\" class=\"dataframe\">\n",
       "  <thead>\n",
       "    <tr style=\"text-align: right;\">\n",
       "      <th></th>\n",
       "      <th>cap-diameter</th>\n",
       "      <th>stem-height</th>\n",
       "      <th>stem-width</th>\n",
       "      <th>edible</th>\n",
       "    </tr>\n",
       "  </thead>\n",
       "  <tbody>\n",
       "    <tr>\n",
       "      <th>cap-diameter</th>\n",
       "      <td>1.000000</td>\n",
       "      <td>0.363922</td>\n",
       "      <td>0.746614</td>\n",
       "      <td>0.162214</td>\n",
       "    </tr>\n",
       "    <tr>\n",
       "      <th>stem-height</th>\n",
       "      <td>0.363922</td>\n",
       "      <td>1.000000</td>\n",
       "      <td>0.356400</td>\n",
       "      <td>0.049454</td>\n",
       "    </tr>\n",
       "    <tr>\n",
       "      <th>stem-width</th>\n",
       "      <td>0.746614</td>\n",
       "      <td>0.356400</td>\n",
       "      <td>1.000000</td>\n",
       "      <td>0.169382</td>\n",
       "    </tr>\n",
       "    <tr>\n",
       "      <th>edible</th>\n",
       "      <td>0.162214</td>\n",
       "      <td>0.049454</td>\n",
       "      <td>0.169382</td>\n",
       "      <td>1.000000</td>\n",
       "    </tr>\n",
       "  </tbody>\n",
       "</table>\n",
       "</div>"
      ],
      "text/plain": [
       "              cap-diameter  stem-height  stem-width    edible\n",
       "cap-diameter      1.000000     0.363922    0.746614  0.162214\n",
       "stem-height       0.363922     1.000000    0.356400  0.049454\n",
       "stem-width        0.746614     0.356400    1.000000  0.169382\n",
       "edible            0.162214     0.049454    0.169382  1.000000"
      ]
     },
     "execution_count": 17,
     "metadata": {},
     "output_type": "execute_result"
    }
   ],
   "source": [
    "# Pearson correlation for numerical features\n",
    "pearson_corr = train[train_numerical_features].corr()\n",
    "pearson_corr"
   ]
  },
  {
   "cell_type": "markdown",
   "id": "f9c69cc4",
   "metadata": {
    "papermill": {
     "duration": 0.018569,
     "end_time": "2024-08-28T22:03:10.562268",
     "exception": false,
     "start_time": "2024-08-28T22:03:10.543699",
     "status": "completed"
    },
    "tags": []
   },
   "source": [
    "# **Models**"
   ]
  },
  {
   "cell_type": "markdown",
   "id": "9e1db51c",
   "metadata": {
    "papermill": {
     "duration": 0.018146,
     "end_time": "2024-08-28T22:03:10.598946",
     "exception": false,
     "start_time": "2024-08-28T22:03:10.580800",
     "status": "completed"
    },
    "tags": []
   },
   "source": [
    "We need to prepare input data. Because we already have a test data but without a target, we will use this to predict the final classification. Before that, we need to split the data into train and test."
   ]
  },
  {
   "cell_type": "code",
   "execution_count": 18,
   "id": "fbf14559",
   "metadata": {
    "execution": {
     "iopub.execute_input": "2024-08-28T22:03:10.638976Z",
     "iopub.status.busy": "2024-08-28T22:03:10.638514Z",
     "iopub.status.idle": "2024-08-28T22:03:11.067690Z",
     "shell.execute_reply": "2024-08-28T22:03:11.066495Z"
    },
    "papermill": {
     "duration": 0.452555,
     "end_time": "2024-08-28T22:03:11.070672",
     "exception": false,
     "start_time": "2024-08-28T22:03:10.618117",
     "status": "completed"
    },
    "tags": []
   },
   "outputs": [],
   "source": [
    "X_train = train_imputed.drop(columns=['edible', 'class']).copy()\n",
    "y_train = train_imputed['edible']\n",
    "X_test = test_imputed.copy()\n",
    "\n",
    "X_train, X_val, y_train, y_val = train_test_split(X_train, y_train, test_size=0.2, random_state=random_state)"
   ]
  },
  {
   "cell_type": "markdown",
   "id": "4ca1ba5e",
   "metadata": {
    "papermill": {
     "duration": 0.018187,
     "end_time": "2024-08-28T22:03:11.107227",
     "exception": false,
     "start_time": "2024-08-28T22:03:11.089040",
     "status": "completed"
    },
    "tags": []
   },
   "source": [
    "We will create a pipeline to transform columns. Numerical features need to be scaled and categorical features need to be encoded into dummies."
   ]
  },
  {
   "cell_type": "code",
   "execution_count": 19,
   "id": "9d9ed1df",
   "metadata": {
    "execution": {
     "iopub.execute_input": "2024-08-28T22:03:11.146492Z",
     "iopub.status.busy": "2024-08-28T22:03:11.145431Z",
     "iopub.status.idle": "2024-08-28T22:03:11.154964Z",
     "shell.execute_reply": "2024-08-28T22:03:11.153567Z"
    },
    "papermill": {
     "duration": 0.032445,
     "end_time": "2024-08-28T22:03:11.157927",
     "exception": false,
     "start_time": "2024-08-28T22:03:11.125482",
     "status": "completed"
    },
    "tags": []
   },
   "outputs": [],
   "source": [
    "def transform_columns(df):\n",
    "    num_features = df.select_dtypes(include=[int, float]).columns\n",
    "    cat_features = df.columns.difference(num_features)\n",
    "\n",
    "    preprocessor = ColumnTransformer(\n",
    "        transformers=[\n",
    "            ('num', StandardScaler(), num_features),\n",
    "            ('cat', OneHotEncoder(drop='first'), cat_features)\n",
    "        ]\n",
    "    )\n",
    "\n",
    "    pipeline = Pipeline(steps=[('preprocessor', preprocessor)])\n",
    "    df_densed = pipeline.fit_transform(df).toarray()\n",
    "    \n",
    "    cat_feature_names = pipeline.named_steps['preprocessor'].named_transformers_['cat'].get_feature_names_out()\n",
    "    all_feature_names = list(X_train.select_dtypes(include=[int, float]).columns) + list(cat_feature_names)\n",
    "\n",
    "    df_transformed = pd.DataFrame(df_densed, columns=all_feature_names)\n",
    "\n",
    "    return df_transformed"
   ]
  },
  {
   "cell_type": "code",
   "execution_count": 20,
   "id": "ccea9a7d",
   "metadata": {
    "execution": {
     "iopub.execute_input": "2024-08-28T22:03:11.197998Z",
     "iopub.status.busy": "2024-08-28T22:03:11.196922Z",
     "iopub.status.idle": "2024-08-28T22:03:41.353848Z",
     "shell.execute_reply": "2024-08-28T22:03:41.352498Z"
    },
    "papermill": {
     "duration": 30.180053,
     "end_time": "2024-08-28T22:03:41.356897",
     "exception": false,
     "start_time": "2024-08-28T22:03:11.176844",
     "status": "completed"
    },
    "tags": []
   },
   "outputs": [],
   "source": [
    "# Input data for training models\n",
    "X_train_transformed = transform_columns(X_train)\n",
    "X_val_transformed = transform_columns(X_val)\n",
    "X_test_transformed = transform_columns(X_test)"
   ]
  },
  {
   "cell_type": "code",
   "execution_count": 21,
   "id": "8273170a",
   "metadata": {
    "execution": {
     "iopub.execute_input": "2024-08-28T22:03:41.396889Z",
     "iopub.status.busy": "2024-08-28T22:03:41.396430Z",
     "iopub.status.idle": "2024-08-28T22:06:07.566830Z",
     "shell.execute_reply": "2024-08-28T22:06:07.565036Z"
    },
    "papermill": {
     "duration": 146.213757,
     "end_time": "2024-08-28T22:06:07.589927",
     "exception": false,
     "start_time": "2024-08-28T22:03:41.376170",
     "status": "completed"
    },
    "tags": []
   },
   "outputs": [
    {
     "name": "stdout",
     "output_type": "stream",
     "text": [
      "Matthews Correlation Coefficient (MCC) with Logistic Regression: 0.6108\n"
     ]
    }
   ],
   "source": [
    "# Logistic Regression\n",
    "logreg = LogisticRegression(random_state=random_state, max_iter=1000, n_jobs=-1)\n",
    "logreg.fit(X_train_transformed, y_train)\n",
    "y_val_pred = logreg.predict(X_val_transformed)\n",
    "\n",
    "mcc = matthews_corrcoef(y_val, y_val_pred)\n",
    "print(f'Matthews Correlation Coefficient (MCC) with Logistic Regression: {mcc:.4f}')"
   ]
  },
  {
   "cell_type": "code",
   "execution_count": 22,
   "id": "359bc4fb",
   "metadata": {
    "execution": {
     "iopub.execute_input": "2024-08-28T22:06:07.631579Z",
     "iopub.status.busy": "2024-08-28T22:06:07.631044Z",
     "iopub.status.idle": "2024-08-28T22:34:55.376938Z",
     "shell.execute_reply": "2024-08-28T22:34:55.375651Z"
    },
    "papermill": {
     "duration": 1727.790281,
     "end_time": "2024-08-28T22:34:55.399515",
     "exception": false,
     "start_time": "2024-08-28T22:06:07.609234",
     "status": "completed"
    },
    "tags": []
   },
   "outputs": [
    {
     "name": "stdout",
     "output_type": "stream",
     "text": [
      "Matthews Correlation Coefficient (MCC) with K-Nearest Neighbors: 0.9808\n"
     ]
    }
   ],
   "source": [
    "# K-Nearest Neighbors\n",
    "knn = KNeighborsClassifier(n_jobs=-1)\n",
    "knn.fit(X_train_transformed, y_train)\n",
    "y_val_pred = knn.predict(X_val_transformed)\n",
    "\n",
    "mcc = matthews_corrcoef(y_val, y_val_pred)\n",
    "print(f'Matthews Correlation Coefficient (MCC) with K-Nearest Neighbors: {mcc:.4f}')"
   ]
  },
  {
   "cell_type": "code",
   "execution_count": 23,
   "id": "3e06e915",
   "metadata": {
    "execution": {
     "iopub.execute_input": "2024-08-28T22:34:55.442011Z",
     "iopub.status.busy": "2024-08-28T22:34:55.441540Z",
     "iopub.status.idle": "2024-08-28T22:41:25.595939Z",
     "shell.execute_reply": "2024-08-28T22:41:25.594562Z"
    },
    "papermill": {
     "duration": 390.196621,
     "end_time": "2024-08-28T22:41:25.616314",
     "exception": false,
     "start_time": "2024-08-28T22:34:55.419693",
     "status": "completed"
    },
    "tags": []
   },
   "outputs": [
    {
     "name": "stdout",
     "output_type": "stream",
     "text": [
      "Matthews Correlation Coefficient (MCC) with Random Forest: 0.9812\n"
     ]
    }
   ],
   "source": [
    "# Random Forest\n",
    "rf = RandomForestClassifier(random_state=random_state, n_estimators=200, n_jobs=-1)\n",
    "rf.fit(X_train_transformed, y_train)\n",
    "y_val_pred = rf.predict(X_val_transformed)\n",
    "\n",
    "mcc = matthews_corrcoef(y_val, y_val_pred)\n",
    "print(f'Matthews Correlation Coefficient (MCC) with Random Forest: {mcc:.4f}')"
   ]
  },
  {
   "cell_type": "code",
   "execution_count": 24,
   "id": "0cfd3d22",
   "metadata": {
    "execution": {
     "iopub.execute_input": "2024-08-28T22:41:25.657269Z",
     "iopub.status.busy": "2024-08-28T22:41:25.656784Z",
     "iopub.status.idle": "2024-08-28T22:51:27.433766Z",
     "shell.execute_reply": "2024-08-28T22:51:27.432345Z"
    },
    "papermill": {
     "duration": 601.820261,
     "end_time": "2024-08-28T22:51:27.455815",
     "exception": false,
     "start_time": "2024-08-28T22:41:25.635554",
     "status": "completed"
    },
    "tags": []
   },
   "outputs": [
    {
     "name": "stdout",
     "output_type": "stream",
     "text": [
      "Fitting 5 folds for each of 4 candidates, totalling 20 fits\n",
      "Best XGBoost parameters: {'learning_rate': 0.1, 'max_depth': 5, 'n_estimators': 200}\n",
      "Matthews Correlation Coefficient (MCC) with XGBoost: 0.9558\n"
     ]
    }
   ],
   "source": [
    "# XGBoost + GridSearchCV\n",
    "param_grid = {\n",
    "    'n_estimators': [100, 200],\n",
    "    'max_depth': [3, 5],\n",
    "    'learning_rate': [0.1]\n",
    "}\n",
    "\n",
    "kf = KFold(n_splits=5, shuffle=True, random_state=random_state)\n",
    "\n",
    "xgb = XGBClassifier(\n",
    "    use_label_encoder=False,\n",
    "    eval_metric='logloss',\n",
    "    random_state=random_state,\n",
    "    n_jobs=-1\n",
    ")\n",
    "\n",
    "grid_search_xgb = GridSearchCV(\n",
    "    estimator=xgb,\n",
    "    param_grid=param_grid,\n",
    "    cv=kf,\n",
    "    scoring=make_scorer(matthews_corrcoef),\n",
    "    verbose=True,\n",
    ")\n",
    "grid_search_xgb.fit(X_train_transformed, y_train)\n",
    "\n",
    "print('Best XGBoost parameters:', grid_search_xgb.best_params_)\n",
    "\n",
    "best_xgb = grid_search_xgb.best_estimator_\n",
    "best_xgb.fit(X_train_transformed, y_train)\n",
    "y_val_pred = best_xgb.predict(X_val_transformed)\n",
    "\n",
    "mcc = matthews_corrcoef(y_val, y_val_pred)\n",
    "print(f'Matthews Correlation Coefficient (MCC) with XGBoost: {mcc:.4f}')"
   ]
  },
  {
   "cell_type": "markdown",
   "id": "20fb03b5",
   "metadata": {
    "papermill": {
     "duration": 0.01867,
     "end_time": "2024-08-28T22:51:27.493535",
     "exception": false,
     "start_time": "2024-08-28T22:51:27.474865",
     "status": "completed"
    },
    "tags": []
   },
   "source": [
    "# **Final Prediction**"
   ]
  },
  {
   "cell_type": "markdown",
   "id": "93ece7c6",
   "metadata": {
    "papermill": {
     "duration": 0.018533,
     "end_time": "2024-08-28T22:51:27.532073",
     "exception": false,
     "start_time": "2024-08-28T22:51:27.513540",
     "status": "completed"
    },
    "tags": []
   },
   "source": [
    "So far, the best model is the Random Forest with 200 estimators. Now we will predict the labels and format the final submission in csv."
   ]
  },
  {
   "cell_type": "code",
   "execution_count": 25,
   "id": "18be2afe",
   "metadata": {
    "execution": {
     "iopub.execute_input": "2024-08-28T22:51:27.573064Z",
     "iopub.status.busy": "2024-08-28T22:51:27.572508Z",
     "iopub.status.idle": "2024-08-28T22:52:21.364459Z",
     "shell.execute_reply": "2024-08-28T22:52:21.362610Z"
    },
    "papermill": {
     "duration": 53.834925,
     "end_time": "2024-08-28T22:52:21.385945",
     "exception": false,
     "start_time": "2024-08-28T22:51:27.551020",
     "status": "completed"
    },
    "tags": []
   },
   "outputs": [
    {
     "name": "stdout",
     "output_type": "stream",
     "text": [
      "2077964\n",
      "2077964\n"
     ]
    }
   ],
   "source": [
    "y_test_pred = rf.predict(X_test_transformed)\n",
    "y_test_pred_class = np.where(y_test_pred == 1, 'e', 'p')\n",
    "print(len(y_test_pred))\n",
    "print(len(test))"
   ]
  },
  {
   "cell_type": "code",
   "execution_count": 26,
   "id": "14afe4a0",
   "metadata": {
    "execution": {
     "iopub.execute_input": "2024-08-28T22:52:21.427304Z",
     "iopub.status.busy": "2024-08-28T22:52:21.426106Z",
     "iopub.status.idle": "2024-08-28T22:52:21.551008Z",
     "shell.execute_reply": "2024-08-28T22:52:21.549973Z"
    },
    "papermill": {
     "duration": 0.149143,
     "end_time": "2024-08-28T22:52:21.554034",
     "exception": false,
     "start_time": "2024-08-28T22:52:21.404891",
     "status": "completed"
    },
    "tags": []
   },
   "outputs": [
    {
     "data": {
      "text/html": [
       "<div>\n",
       "<style scoped>\n",
       "    .dataframe tbody tr th:only-of-type {\n",
       "        vertical-align: middle;\n",
       "    }\n",
       "\n",
       "    .dataframe tbody tr th {\n",
       "        vertical-align: top;\n",
       "    }\n",
       "\n",
       "    .dataframe thead th {\n",
       "        text-align: right;\n",
       "    }\n",
       "</style>\n",
       "<table border=\"1\" class=\"dataframe\">\n",
       "  <thead>\n",
       "    <tr style=\"text-align: right;\">\n",
       "      <th></th>\n",
       "      <th>id</th>\n",
       "      <th>class</th>\n",
       "    </tr>\n",
       "  </thead>\n",
       "  <tbody>\n",
       "    <tr>\n",
       "      <th>0</th>\n",
       "      <td>3116945</td>\n",
       "      <td>e</td>\n",
       "    </tr>\n",
       "    <tr>\n",
       "      <th>1</th>\n",
       "      <td>3116946</td>\n",
       "      <td>p</td>\n",
       "    </tr>\n",
       "    <tr>\n",
       "      <th>2</th>\n",
       "      <td>3116947</td>\n",
       "      <td>p</td>\n",
       "    </tr>\n",
       "    <tr>\n",
       "      <th>3</th>\n",
       "      <td>3116948</td>\n",
       "      <td>p</td>\n",
       "    </tr>\n",
       "    <tr>\n",
       "      <th>4</th>\n",
       "      <td>3116949</td>\n",
       "      <td>e</td>\n",
       "    </tr>\n",
       "  </tbody>\n",
       "</table>\n",
       "</div>"
      ],
      "text/plain": [
       "        id class\n",
       "0  3116945     e\n",
       "1  3116946     p\n",
       "2  3116947     p\n",
       "3  3116948     p\n",
       "4  3116949     e"
      ]
     },
     "execution_count": 26,
     "metadata": {},
     "output_type": "execute_result"
    }
   ],
   "source": [
    "submission = pd.DataFrame({'id': test.index, 'class': y_test_pred_class})\n",
    "submission.head()"
   ]
  },
  {
   "cell_type": "code",
   "execution_count": 27,
   "id": "143506c5",
   "metadata": {
    "execution": {
     "iopub.execute_input": "2024-08-28T22:52:21.596004Z",
     "iopub.status.busy": "2024-08-28T22:52:21.595578Z",
     "iopub.status.idle": "2024-08-28T22:52:24.497269Z",
     "shell.execute_reply": "2024-08-28T22:52:24.495483Z"
    },
    "papermill": {
     "duration": 2.925948,
     "end_time": "2024-08-28T22:52:24.500390",
     "exception": false,
     "start_time": "2024-08-28T22:52:21.574442",
     "status": "completed"
    },
    "tags": []
   },
   "outputs": [],
   "source": [
    "submission.to_csv('submission.csv', index=False)"
   ]
  }
 ],
 "metadata": {
  "kaggle": {
   "accelerator": "none",
   "dataSources": [
    {
     "databundleVersionId": 9045607,
     "sourceId": 76727,
     "sourceType": "competition"
    }
   ],
   "dockerImageVersionId": 30762,
   "isGpuEnabled": false,
   "isInternetEnabled": true,
   "language": "python",
   "sourceType": "notebook"
  },
  "kernelspec": {
   "display_name": "Python 3",
   "language": "python",
   "name": "python3"
  },
  "language_info": {
   "codemirror_mode": {
    "name": "ipython",
    "version": 3
   },
   "file_extension": ".py",
   "mimetype": "text/x-python",
   "name": "python",
   "nbconvert_exporter": "python",
   "pygments_lexer": "ipython3",
   "version": "3.10.14"
  },
  "papermill": {
   "default_parameters": {},
   "duration": 3061.683713,
   "end_time": "2024-08-28T22:52:27.448602",
   "environment_variables": {},
   "exception": null,
   "input_path": "__notebook__.ipynb",
   "output_path": "__notebook__.ipynb",
   "parameters": {},
   "start_time": "2024-08-28T22:01:25.764889",
   "version": "2.6.0"
  }
 },
 "nbformat": 4,
 "nbformat_minor": 5
}
